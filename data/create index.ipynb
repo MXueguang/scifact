{
 "cells": [
  {
   "cell_type": "code",
   "execution_count": 1,
   "metadata": {},
   "outputs": [],
   "source": [
    "import json"
   ]
  },
  {
   "cell_type": "code",
   "execution_count": 117,
   "metadata": {},
   "outputs": [
    {
     "name": "stdout",
     "output_type": "stream",
     "text": [
      "{'id': 198309074, 'contents': 'Introduction: Among the inflammatory mediators involved in the pathogenesis of obesity, the cell adhesion molecules Pselectin, E-selectin, VCAM-1, ICAM-1 and the chemokine MCP-1 stand out. They play a crucial role in adherence of cells to endothelial surfaces, in the integrity of the vascular wall and can be modulated by body composition and dietary pattern. Objectives: To describe and discuss the relation of these cell adhesion molecules and chemokines to anthropometric, body composition, dietary and biochemical markers. Methods: Papers were located using scientific databases by topic searches with no restriction on year of publication. Results: All molecules were associated positively with anthropometric markers, but controversial results were found for ICAM-1 and VCAM-1. Not only obesity, but visceral fat is more strongly correlated with E-selectin and MCP-1 levels. Weight loss influences the reduction in the levels of these molecules, except VCAM-1. The distribution of macronutrients, excessive consumption of saturated and trans fat and a Western dietary pattern are associated with increased levels. The opposite could be observed with supplementation of w-3 fatty acid, healthy dietary pattern, high calcium diet and high dairy intake. Regarding the biochemical parameters, they have inverse relation to HDLC and positive relation to total cholesterol, triglycerides, blood glucose, fasting insulin and insulin resistance. Conclusion: Normal anthropometric indicators, body composition, biochemical parameters and eating pattern positively modulate the subclinical inflammation that results from obesity by reducing the cell adhesion molecules and chemokines.', 'title': 'Adhesion molecules and chemokines: relation to anthropometric, body composition, biochemical and dietary variables', 'sentences': '[\"Introduction: Among the inflammatory mediators involved in the pathogenesis of obesity, the cell adhesion molecules Pselectin, E-selectin, VCAM-1, ICAM-1 and the chemokine MCP-1 stand out.\", \"They play a crucial role in adherence of cells to endothelial surfaces, in the integrity of the vascular wall and can be modulated by body composition and dietary pattern.\", \"Objectives: To describe and discuss the relation of these cell adhesion molecules and chemokines to anthropometric, body composition, dietary and biochemical markers.\", \"Methods: Papers were located using scientific databases by topic searches with no restriction on year of publication.\", \"Results: All molecules were associated positively with anthropometric markers, but controversial results were found for ICAM-1 and VCAM-1.\", \"Not only obesity, but visceral fat is more strongly correlated with E-selectin and MCP-1 levels.\", \"Weight loss influences the reduction in the levels of these molecules, except VCAM-1.\", \"The distribution of macronutrients, excessive consumption of saturated and trans fat and a Western dietary pattern are associated with increased levels.\", \"The opposite could be observed with supplementation of w-3 fatty acid, healthy dietary pattern, high calcium diet and high dairy intake.\", \"Regarding the biochemical parameters, they have inverse relation to HDLC and positive relation to total cholesterol, triglycerides, blood glucose, fasting insulin and insulin resistance.\", \"Conclusion: Normal anthropometric indicators, body composition, biochemical parameters and eating pattern positively modulate the subclinical inflammation that results from obesity by reducing the cell adhesion molecules and chemokines.\"]', 'structured': 'False'}\n"
     ]
    }
   ],
   "source": [
    "f = open(\"corpus.jsonl\", \"r\")\n",
    "output = []\n",
    "for line in f:\n",
    "    info = json.loads(line)\n",
    "    doc_id = info[\"doc_id\"]\n",
    "    abstract = info[\"abstract\"]\n",
    "    structured = info[\"structured\"]\n",
    "    title = info[\"title\"]\n",
    "    output.append({\"id\": doc_id, \"contents\": \" \".join(abstract), \"title\": title, \"sentences\": json.dumps(abstract), \"structured\": str(structured)})\n",
    "print(output[-1])\n",
    "f.close()"
   ]
  },
  {
   "cell_type": "code",
   "execution_count": 118,
   "metadata": {},
   "outputs": [],
   "source": [
    "f = open(\"json/scifact.json\", \"w\")\n",
    "json.dump(output, f, indent=4)\n",
    "f.close()"
   ]
  },
  {
   "cell_type": "code",
   "execution_count": 126,
   "metadata": {},
   "outputs": [],
   "source": [
    "from pyserini.search import SimpleSearcher\n",
    "\n",
    "searcher = SimpleSearcher('index/')\n",
    "hits = searcher.search(\"A breast cancer patient's capacity to metabolize tamoxifen has no effect on treatment outcome.\", 10)"
   ]
  },
  {
   "cell_type": "code",
   "execution_count": 127,
   "metadata": {},
   "outputs": [
    {
     "data": {
      "text/plain": [
       "10"
      ]
     },
     "execution_count": 127,
     "metadata": {},
     "output_type": "execute_result"
    }
   ],
   "source": [
    "len(hits)"
   ]
  },
  {
   "cell_type": "code",
   "execution_count": 130,
   "metadata": {},
   "outputs": [
    {
     "name": "stdout",
     "output_type": "stream",
     "text": [
      "['BACKGROUND Moderate differences in efficacy between adjuvant chemotherapy regimens for breast cancer are plausible, and could affect treatment choices.', 'We sought any such differences.   \\n', 'METHODS We undertook individual-patient-data meta-analyses of the randomised trials comparing: any taxane-plus-anthracycline-based regimen versus the same, or more, non-taxane chemotherapy (n=44,000); one anthracycline-based regimen versus another (n=7000) or versus cyclophosphamide, methotrexate, and fluorouracil (CMF; n=18,000); and polychemotherapy versus no chemotherapy (n=32,000).', 'The scheduled dosages of these three drugs and of the anthracyclines doxorubicin (A) and epirubicin (E) were used to define standard CMF, standard 4AC, and CAF and CEF.', 'Log-rank breast cancer mortality rate ratios (RRs) are reported.   \\n', 'FINDINGS In trials adding four separate cycles of a taxane to a fixed anthracycline-based control regimen, extending treatment duration, breast cancer mortality was reduced (RR 0·86, SE 0·04, two-sided significance [2p]=0·0005).', 'In trials with four such extra cycles of a taxane counterbalanced in controls by extra cycles of other cytotoxic drugs, roughly doubling non-taxane dosage, there was no significant difference (RR 0·94, SE 0·06, 2p=0·33).', 'Trials with CMF-treated controls showed that standard 4AC and standard CMF were equivalent (RR 0·98, SE 0·05, 2p=0·67), but that anthracycline-based regimens with substantially higher cumulative dosage than standard 4AC (eg, CAF or CEF) were superior to standard CMF (RR 0·78, SE 0·06, 2p=0·0004).', 'Trials versus no chemotherapy also suggested greater mortality reductions with CAF (RR 0·64, SE 0·09, 2p<0·0001) than with standard 4AC (RR 0·78, SE 0·09, 2p=0·01) or standard CMF (RR 0·76, SE 0·05, 2p<0·0001).', 'In all meta-analyses involving taxane-based or anthracycline-based regimens, proportional risk reductions were little affected by age, nodal status, tumour diameter or differentiation (moderate or poor; few were well differentiated), oestrogen receptor status, or tamoxifen use.', 'Hence, largely independently of age (up to at least 70 years) or the tumour characteristics currently available to us for the patients selected to be in these trials, some taxane-plus-anthracycline-based or higher-cumulative-dosage anthracycline-based regimens (not requiring stem cells) reduced breast cancer mortality by, on average, about one-third.', '10-year overall mortality differences paralleled breast cancer mortality differences, despite taxane, anthracycline, and other toxicities.   \\n', 'INTERPRETATION 10-year gains from a one-third breast cancer mortality reduction depend on absolute risks without chemotherapy (which, for oestrogen-receptor-positive disease, are the risks remaining with appropriate endocrine therapy).', 'Low absolute risk implies low absolute benefit, but information was lacking about tumour gene expression markers or quantitative immunohistochemistry that might help to predict risk, chemosensitivity, or both.   \\n', 'FUNDING Cancer Research UK; British Heart Foundation; UK Medical Research Council.']\n"
     ]
    }
   ],
   "source": [
    "print(json.loads(hits[9].lucene_document.get(\"sentences\")))"
   ]
  },
  {
   "cell_type": "code",
   "execution_count": 134,
   "metadata": {},
   "outputs": [
    {
     "data": {
      "text/plain": [
       "'Introduction: Among the inflammatory mediators involved in the pathogenesis of obesity, the cell adhesion molecules Pselectin, E-selectin, VCAM-1, ICAM-1 and the chemokine MCP-1 stand out. They play a crucial role in adherence of cells to endothelial surfaces, in the integrity of the vascular wall and can be modulated by body composition and dietary pattern. Objectives: To describe and discuss the relation of these cell adhesion molecules and chemokines to anthropometric, body composition, dietary and biochemical markers. Methods: Papers were located using scientific databases by topic searches with no restriction on year of publication. Results: All molecules were associated positively with anthropometric markers, but controversial results were found for ICAM-1 and VCAM-1. Not only obesity, but visceral fat is more strongly correlated with E-selectin and MCP-1 levels. Weight loss influences the reduction in the levels of these molecules, except VCAM-1. The distribution of macronutrients, excessive consumption of saturated and trans fat and a Western dietary pattern are associated with increased levels. The opposite could be observed with supplementation of w-3 fatty acid, healthy dietary pattern, high calcium diet and high dairy intake. Regarding the biochemical parameters, they have inverse relation to HDLC and positive relation to total cholesterol, triglycerides, blood glucose, fasting insulin and insulin resistance. Conclusion: Normal anthropometric indicators, body composition, biochemical parameters and eating pattern positively modulate the subclinical inflammation that results from obesity by reducing the cell adhesion molecules and chemokines.'"
      ]
     },
     "execution_count": 134,
     "metadata": {},
     "output_type": "execute_result"
    }
   ],
   "source": [
    "searcher.doc(\"198309074\").contents()"
   ]
  },
  {
   "cell_type": "code",
   "execution_count": null,
   "metadata": {},
   "outputs": [],
   "source": []
  }
 ],
 "metadata": {
  "kernelspec": {
   "display_name": "Python 3",
   "language": "python",
   "name": "python3"
  },
  "language_info": {
   "codemirror_mode": {
    "name": "ipython",
    "version": 3
   },
   "file_extension": ".py",
   "mimetype": "text/x-python",
   "name": "python",
   "nbconvert_exporter": "python",
   "pygments_lexer": "ipython3",
   "version": "3.7.4"
  }
 },
 "nbformat": 4,
 "nbformat_minor": 2
}
