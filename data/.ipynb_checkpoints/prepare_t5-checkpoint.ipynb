{
 "cells": [
  {
   "cell_type": "code",
   "execution_count": 2,
   "metadata": {},
   "outputs": [],
   "source": [
    "import json\n",
    "from pyserini.search import SimpleSearcher"
   ]
  },
  {
   "cell_type": "code",
   "execution_count": 11,
   "metadata": {},
   "outputs": [],
   "source": [
    "searcher = SimpleSearcher('index/')\n",
    "claim_f = open(\"claims_dev.jsonl\", \"r\")\n",
    "t5_input = open(\"claim_sent_pairs.txt\", \"w\")\n",
    "t5_input_ids = open(\"claim_sent_ids.txt\", \"w\")\n",
    "for line in claim_f:\n",
    "    claim_info = json.loads(line)\n",
    "    evidence = claim_info[\"evidence\"]\n",
    "    hits = searcher.search(claim_info[\"claim\"], 3)\n",
    "    for hit in hits:\n",
    "        sentences = json.loads(hit.lucene_document.get(\"sentences\"))\n",
    "        for idx, sent in enumerate(sentences):\n",
    "            qtext = claim_info[\"claim\"]\n",
    "            dtext = sent.strip()\n",
    "            t5_input.write(f'Query: {qtext} Document: {dtext} Relevant:\\n')\n",
    "            qid = claim_info[\"id\"]\n",
    "            did = str(hit.docid) + \"#{}\".format(idx)\n",
    "            label = False\n",
    "            if str(hit.docid) in evidence:\n",
    "                for item in evidence[str(hit.docid)]:\n",
    "                    if idx in item[\"sentences\"]:\n",
    "                        label = True\n",
    "            t5_input_ids.write(f'{qid}\\t{did}\\t{label}\\n')\n",
    "t5_input.close()\n",
    "claim_f.close()\n",
    "t5_input_ids.close()"
   ]
  },
  {
   "cell_type": "code",
   "execution_count": null,
   "metadata": {},
   "outputs": [],
   "source": []
  }
 ],
 "metadata": {
  "kernelspec": {
   "display_name": "Python 3",
   "language": "python",
   "name": "python3"
  },
  "language_info": {
   "codemirror_mode": {
    "name": "ipython",
    "version": 3
   },
   "file_extension": ".py",
   "mimetype": "text/x-python",
   "name": "python",
   "nbconvert_exporter": "python",
   "pygments_lexer": "ipython3",
   "version": "3.7.4"
  }
 },
 "nbformat": 4,
 "nbformat_minor": 2
}
