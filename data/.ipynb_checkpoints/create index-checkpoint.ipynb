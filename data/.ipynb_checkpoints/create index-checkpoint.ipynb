{
 "cells": [
  {
   "cell_type": "code",
   "execution_count": 1,
   "metadata": {},
   "outputs": [],
   "source": [
    "import json"
   ]
  },
  {
   "cell_type": "code",
   "execution_count": 72,
   "metadata": {},
   "outputs": [
    {
     "name": "stdout",
     "output_type": "stream",
     "text": [
      "{'id': 198309074, 'contents': 'Introduction: Among the inflammatory mediators involved in the pathogenesis of obesity, the cell adhesion molecules Pselectin, E-selectin, VCAM-1, ICAM-1 and the chemokine MCP-1 stand out. They play a crucial role in adherence of cells to endothelial surfaces, in the integrity of the vascular wall and can be modulated by body composition and dietary pattern. Objectives: To describe and discuss the relation of these cell adhesion molecules and chemokines to anthropometric, body composition, dietary and biochemical markers. Methods: Papers were located using scientific databases by topic searches with no restriction on year of publication. Results: All molecules were associated positively with anthropometric markers, but controversial results were found for ICAM-1 and VCAM-1. Not only obesity, but visceral fat is more strongly correlated with E-selectin and MCP-1 levels. Weight loss influences the reduction in the levels of these molecules, except VCAM-1. The distribution of macronutrients, excessive consumption of saturated and trans fat and a Western dietary pattern are associated with increased levels. The opposite could be observed with supplementation of w-3 fatty acid, healthy dietary pattern, high calcium diet and high dairy intake. Regarding the biochemical parameters, they have inverse relation to HDLC and positive relation to total cholesterol, triglycerides, blood glucose, fasting insulin and insulin resistance. Conclusion: Normal anthropometric indicators, body composition, biochemical parameters and eating pattern positively modulate the subclinical inflammation that results from obesity by reducing the cell adhesion molecules and chemokines.', 'title': 'Adhesion molecules and chemokines: relation to anthropometric, body composition, biochemical and dietary variables', 'sentences': '[\"Introduction: Among the inflammatory mediators involved in the pathogenesis of obesity, the cell adhesion molecules Pselectin, E-selectin, VCAM-1, ICAM-1 and the chemokine MCP-1 stand out.\", \"They play a crucial role in adherence of cells to endothelial surfaces, in the integrity of the vascular wall and can be modulated by body composition and dietary pattern.\", \"Objectives: To describe and discuss the relation of these cell adhesion molecules and chemokines to anthropometric, body composition, dietary and biochemical markers.\", \"Methods: Papers were located using scientific databases by topic searches with no restriction on year of publication.\", \"Results: All molecules were associated positively with anthropometric markers, but controversial results were found for ICAM-1 and VCAM-1.\", \"Not only obesity, but visceral fat is more strongly correlated with E-selectin and MCP-1 levels.\", \"Weight loss influences the reduction in the levels of these molecules, except VCAM-1.\", \"The distribution of macronutrients, excessive consumption of saturated and trans fat and a Western dietary pattern are associated with increased levels.\", \"The opposite could be observed with supplementation of w-3 fatty acid, healthy dietary pattern, high calcium diet and high dairy intake.\", \"Regarding the biochemical parameters, they have inverse relation to HDLC and positive relation to total cholesterol, triglycerides, blood glucose, fasting insulin and insulin resistance.\", \"Conclusion: Normal anthropometric indicators, body composition, biochemical parameters and eating pattern positively modulate the subclinical inflammation that results from obesity by reducing the cell adhesion molecules and chemokines.\"]', 'structured': 'False'}\n"
     ]
    }
   ],
   "source": [
    "f = open(\"corpus.jsonl\", \"r\")\n",
    "output = []\n",
    "for line in f:\n",
    "    info = json.loads(line)\n",
    "    doc_id = info[\"doc_id\"]\n",
    "    abstract = info[\"abstract\"]\n",
    "    structured = info[\"structured\"]\n",
    "    title = info[\"title\"]\n",
    "    output.append({\"id\": doc_id, \"contents\": \" \".join(abstract), \"title\": title, \"sentences\": \"avasdfasdf\", \"structured\": str(structured)})\n",
    "print(output[-1])\n",
    "f.close()"
   ]
  },
  {
   "cell_type": "code",
   "execution_count": 73,
   "metadata": {},
   "outputs": [],
   "source": [
    "f = open(\"json/scifact.json\", \"w\")\n",
    "json.dump(output, f, indent=4)\n",
    "f.close()"
   ]
  },
  {
   "cell_type": "code",
   "execution_count": 80,
   "metadata": {},
   "outputs": [],
   "source": [
    "from pyserini.search import SimpleSearcher\n",
    "\n",
    "searcher = SimpleSearcher('index/')\n",
    "hits = searcher.search(\"A breast cancer patient's capacity to metabolize tamoxifen has no effect on treatment outcome.\", 10)"
   ]
  },
  {
   "cell_type": "code",
   "execution_count": 81,
   "metadata": {},
   "outputs": [
    {
     "data": {
      "text/plain": [
       "10"
      ]
     },
     "execution_count": 81,
     "metadata": {},
     "output_type": "execute_result"
    }
   ],
   "source": [
    "len(hits)"
   ]
  },
  {
   "cell_type": "code",
   "execution_count": 82,
   "metadata": {},
   "outputs": [
    {
     "name": "stdout",
     "output_type": "stream",
     "text": [
      "None\n"
     ]
    }
   ],
   "source": [
    "print(hits[9].lucene_document.get(\"sentences\"))"
   ]
  },
  {
   "cell_type": "code",
   "execution_count": null,
   "metadata": {},
   "outputs": [],
   "source": []
  },
  {
   "cell_type": "code",
   "execution_count": null,
   "metadata": {},
   "outputs": [],
   "source": []
  }
 ],
 "metadata": {
  "kernelspec": {
   "display_name": "Python 3",
   "language": "python",
   "name": "python3"
  },
  "language_info": {
   "codemirror_mode": {
    "name": "ipython",
    "version": 3
   },
   "file_extension": ".py",
   "mimetype": "text/x-python",
   "name": "python",
   "nbconvert_exporter": "python",
   "pygments_lexer": "ipython3",
   "version": "3.7.4"
  }
 },
 "nbformat": 4,
 "nbformat_minor": 2
}
