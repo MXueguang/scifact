{
 "cells": [
  {
   "cell_type": "code",
   "execution_count": 1,
   "metadata": {},
   "outputs": [],
   "source": [
    "import json"
   ]
  },
  {
   "cell_type": "code",
   "execution_count": 2,
   "metadata": {},
   "outputs": [],
   "source": [
    "def get_retrueval_result(path):\n",
    "    result = []\n",
    "    f = open(path, \"r\")\n",
    "    for line in f:\n",
    "        result.append(json.loads(line))\n",
    "    f.close()\n",
    "    return result"
   ]
  },
  {
   "cell_type": "code",
   "execution_count": 4,
   "metadata": {},
   "outputs": [],
   "source": [
    "oracle_result = get_retrieval_result(\"../prediction/abstract_retrieval_oracle.jsonl\")\n",
    "tfidf_result = get_retrieval_result(\"../prediction/abstract_retrieval_tfidf.jsonl\")\n",
    "anserini_result = get_retrieval_result(\"../prediction/abstract_retrieval_anserini.jsonl\")"
   ]
  },
  {
   "cell_type": "code",
   "execution_count": 6,
   "metadata": {},
   "outputs": [],
   "source": [
    "def count(golden_ids, retrieval_ids):\n",
    "    result = 0\n",
    "    for id_ in golden_ids:\n",
    "        if id_ in retrieval_ids:\n",
    "            result += 1\n",
    "    return result"
   ]
  },
  {
   "cell_type": "code",
   "execution_count": 11,
   "metadata": {},
   "outputs": [],
   "source": [
    "tfidf_count = 0\n",
    "anserini_count = 0\n",
    "oracle_count = 0\n",
    "\n",
    "for i in range(len(oracle_result)):\n",
    "    oracle_ids = oracle_result[i][\"doc_ids\"]\n",
    "    tfidf_ids = tfidf_result[i][\"doc_ids\"]\n",
    "    anserini_ids = anserini_result[i][\"doc_ids\"]\n",
    "    oracle_count += len(oracle_ids)\n",
    "    tfidf_count += count(oracle_ids, tfidf_ids)\n",
    "    anserini_count += count(oracle_ids, anserini_ids)"
   ]
  },
  {
   "cell_type": "code",
   "execution_count": 12,
   "metadata": {},
   "outputs": [
    {
     "data": {
      "text/plain": [
       "145"
      ]
     },
     "execution_count": 12,
     "metadata": {},
     "output_type": "execute_result"
    }
   ],
   "source": [
    "tfidf_count"
   ]
  },
  {
   "cell_type": "code",
   "execution_count": 13,
   "metadata": {},
   "outputs": [
    {
     "data": {
      "text/plain": [
       "167"
      ]
     },
     "execution_count": 13,
     "metadata": {},
     "output_type": "execute_result"
    }
   ],
   "source": [
    "anserini_count"
   ]
  },
  {
   "cell_type": "code",
   "execution_count": 14,
   "metadata": {},
   "outputs": [
    {
     "data": {
      "text/plain": [
       "209"
      ]
     },
     "execution_count": 14,
     "metadata": {},
     "output_type": "execute_result"
    }
   ],
   "source": [
    "oracle_count"
   ]
  },
  {
   "cell_type": "code",
   "execution_count": null,
   "metadata": {},
   "outputs": [],
   "source": []
  }
 ],
 "metadata": {
  "kernelspec": {
   "display_name": "Python 3",
   "language": "python",
   "name": "python3"
  },
  "language_info": {
   "codemirror_mode": {
    "name": "ipython",
    "version": 3
   },
   "file_extension": ".py",
   "mimetype": "text/x-python",
   "name": "python",
   "nbconvert_exporter": "python",
   "pygments_lexer": "ipython3",
   "version": "3.7.4"
  }
 },
 "nbformat": 4,
 "nbformat_minor": 2
}
