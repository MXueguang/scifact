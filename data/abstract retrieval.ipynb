{
 "cells": [
  {
   "cell_type": "code",
   "execution_count": 7,
   "metadata": {},
   "outputs": [],
   "source": [
    "import json\n",
    "from pyserini.search import SimpleSearcher"
   ]
  },
  {
   "cell_type": "code",
   "execution_count": 17,
   "metadata": {},
   "outputs": [],
   "source": [
    "searcher = SimpleSearcher('index/')\n",
    "claim_f = open(\"claims_dev.jsonl\", \"r\")\n",
    "retrieval_f = open(\"../prediction/abstract_retrieval_anserini.jsonl\", \"w\")\n",
    "for line in claim_f:\n",
    "    claim = json.loads(line)\n",
    "    hits = searcher.search(claim[\"claim\"], 3)\n",
    "    doc_ids = []\n",
    "    for hit in hits:\n",
    "        doc_ids.append(int(hit.docid))\n",
    "    retrieval_f.write(json.dumps({\"claim_id\": claim[\"id\"], \"doc_ids\": doc_ids})+\"\\n\")\n",
    "retrieval_f.close()\n",
    "claim_f.close()"
   ]
  }
 ],
 "metadata": {
  "kernelspec": {
   "display_name": "Python 3",
   "language": "python",
   "name": "python3"
  },
  "language_info": {
   "codemirror_mode": {
    "name": "ipython",
    "version": 3
   },
   "file_extension": ".py",
   "mimetype": "text/x-python",
   "name": "python",
   "nbconvert_exporter": "python",
   "pygments_lexer": "ipython3",
   "version": "3.7.4"
  }
 },
 "nbformat": 4,
 "nbformat_minor": 2
}
